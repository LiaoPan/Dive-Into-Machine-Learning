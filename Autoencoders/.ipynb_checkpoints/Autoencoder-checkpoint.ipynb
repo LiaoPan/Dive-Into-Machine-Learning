{
 "cells": [
  {
   "cell_type": "markdown",
   "metadata": {},
   "source": [
    "## 自动编码器\n",
    "> 自动编码器是可以有效学习输入数据隐藏表示特征的神经网络.我们将其特征成为_coding_._coding_通常比输入数据的维度小很多,所以可以用来对数据进行维度降维处理.\n",
    "这是一种非监督的学习方式.\n",
    "\n",
    "输入数据:可以是图片,矩阵数值数据等形式.\n",
    "约束:在训练自动编码器过程中,我们可以对其_coding_进行限制,比如说,限制其维度;或者我们可以在输入数据中加入噪音,使其重构原数据.这里加噪音的作用主要使其自动编码器更具鲁棒性,更好的挖掘该数据集的隐藏表现特征_coding_\n",
    "\n",
    "在本文中,我们将探索自动编码器的原理,可以添加何种类型的约束,如何用tensorflow实现.\n",
    "\n"
   ]
  },
  {
   "cell_type": "markdown",
   "metadata": {},
   "source": [
    "## 通俗理解\n",
    "自动编码器将输入数据强制转换成一个有效的隐层表示,然后输入的时候希望和输入越接近越好!\n",
    "![自动编码器](../resources/images/autoencoder_1.png)\n",
    "\n",
    "自动编码器分为两部分:\n",
    "- 编码器:将输入数据转换成_coding_.\n",
    "- 解码器:将_coding_转换成输出数据.\n",
    "\n",
    "通常,编码器和解码器都可以使用多层神经网络(MLP)构成."
   ]
  },
  {
   "cell_type": "markdown",
   "metadata": {},
   "source": [
    "## 1.实现一个简单的线性自动编码器\n",
    "使用线性激活函数,损失函数为Mean Squared Error(MSE)."
   ]
  },
  {
   "cell_type": "code",
   "execution_count": 1,
   "metadata": {
    "collapsed": true
   },
   "outputs": [],
   "source": [
    "import tensorflow as tf\n",
    "from tensorflow.contrib.layers import fully_connected"
   ]
  },
  {
   "cell_type": "code",
   "execution_count": 2,
   "metadata": {
    "collapsed": true
   },
   "outputs": [],
   "source": [
    "n_inputs = 784 #\n",
    "n_hidden = 2 # 2D inputs\n",
    "n_outputs = n_inputs\n",
    "\n",
    "learning_rate = 0.01"
   ]
  },
  {
   "cell_type": "code",
   "execution_count": 3,
   "metadata": {
    "collapsed": false
   },
   "outputs": [],
   "source": [
    "X = tf.placeholder(tf.float32,shape=[None,n_inputs])\n",
    "hidden = fully_connected(X,n_hidden,activation_fn=None) #None 表示这里使用线性\n",
    "outputs = fully_connected(hidden,n_outputs,activation_fn=None)"
   ]
  },
  {
   "cell_type": "code",
   "execution_count": 4,
   "metadata": {
    "collapsed": true
   },
   "outputs": [],
   "source": [
    "#重构误差--MSE\n",
    "re_loss = tf.reduce_mean(tf.square(outputs-X))"
   ]
  },
  {
   "cell_type": "code",
   "execution_count": 5,
   "metadata": {
    "collapsed": true
   },
   "outputs": [],
   "source": [
    "#优化器\n",
    "optimizer = tf.train.AdamOptimizer(learning_rate)\n",
    "training_op = optimizer.minimize(re_loss)"
   ]
  },
  {
   "cell_type": "code",
   "execution_count": 6,
   "metadata": {
    "collapsed": false
   },
   "outputs": [],
   "source": [
    "#初始化所有变量\n",
    "init = tf.global_variables_initializer()"
   ]
  },
  {
   "cell_type": "code",
   "execution_count": null,
   "metadata": {
    "collapsed": false
   },
   "outputs": [
    {
     "name": "stdout",
     "output_type": "stream",
     "text": [
      "Extracting MNIST_data/train-images-idx3-ubyte.gz\n",
      "Extracting MNIST_data/train-labels-idx1-ubyte.gz\n",
      "Extracting MNIST_data/t10k-images-idx3-ubyte.gz\n",
      "Extracting MNIST_data/t10k-labels-idx1-ubyte.gz\n"
     ]
    }
   ],
   "source": [
    "# 加载数据集  这里使用minist数据集\n",
    "from tensorflow.examples.tutorials.mnist import input_data\n",
    "mnist = input_data.read_data_sets('MNIST_data', one_hot=True)"
   ]
  },
  {
   "cell_type": "code",
   "execution_count": null,
   "metadata": {
    "collapsed": false
   },
   "outputs": [],
   "source": [
    "n_iterations = 200\n",
    "coding_dim = n_hidden\n",
    "batch_size = 256\n",
    "with tf.Session() as sess:\n",
    "    sess.run(init)\n",
    "    total_batch = int(mnist.train.num_examples/batch_size)\n",
    "    for _ in range(n_iterations):\n",
    "        for _ in range(total_batch):\n",
    "            batch_xs, batch_ys = mnist.train.next_batch(batch_size)\n",
    "            training_op.run(feed_dict={X:batch_xs})\n",
    "#     coding_val = coding.eval(feed_dict:{X:mnist.test.images[:10]})\n",
    "    "
   ]
  },
  {
   "cell_type": "markdown",
   "metadata": {
    "collapsed": true
   },
   "source": [
    "## 堆叠自动编码器(Stacked Autoencoder)\n",
    "自动编码器可以有多个隐藏层,增加多个隐藏层可以帮助自动编码器学习更加复杂的_coding_.!\n",
    "![堆叠自动编码器](../resources/images/stackedAE.png)\n",
    "\n",
    "### Tensorflow 实现\n",
    "使用一个深层的MLP进行堆叠自动编码器的实现.使用ELU的激活函数.\n",
    "现在还是以MNIST为例."
   ]
  },
  {
   "cell_type": "code",
   "execution_count": null,
   "metadata": {
    "collapsed": false
   },
   "outputs": [],
   "source": [
    "n_inputs,n_outputs = 28*28,28*28\n",
    "n_hidden_1 = 1000\n",
    "n_hidden_2 = 500\n",
    "n_hidden_3 = 256\n",
    "\n",
    "learning_rate = 0.01\n",
    "l2_reg = 10e-5"
   ]
  },
  {
   "cell_type": "code",
   "execution_count": null,
   "metadata": {
    "collapsed": true
   },
   "outputs": [],
   "source": [
    "X = tf.placeholder(tf.float32,shape=(None,n_inputs))\n",
    "with tf.contrib.framework.arg_scope(\n",
    "        [fully_connected],\n",
    "        activation_fn = tf.nn.elu,\n",
    "        )"
   ]
  },
  {
   "cell_type": "code",
   "execution_count": null,
   "metadata": {
    "collapsed": true
   },
   "outputs": [],
   "source": []
  },
  {
   "cell_type": "code",
   "execution_count": null,
   "metadata": {
    "collapsed": true
   },
   "outputs": [],
   "source": []
  },
  {
   "cell_type": "code",
   "execution_count": null,
   "metadata": {
    "collapsed": true
   },
   "outputs": [],
   "source": []
  },
  {
   "cell_type": "code",
   "execution_count": null,
   "metadata": {
    "collapsed": true
   },
   "outputs": [],
   "source": []
  },
  {
   "cell_type": "code",
   "execution_count": null,
   "metadata": {
    "collapsed": true
   },
   "outputs": [],
   "source": []
  },
  {
   "cell_type": "code",
   "execution_count": null,
   "metadata": {
    "collapsed": true
   },
   "outputs": [],
   "source": []
  },
  {
   "cell_type": "code",
   "execution_count": null,
   "metadata": {
    "collapsed": true
   },
   "outputs": [],
   "source": []
  },
  {
   "cell_type": "code",
   "execution_count": null,
   "metadata": {
    "collapsed": true
   },
   "outputs": [],
   "source": []
  },
  {
   "cell_type": "code",
   "execution_count": null,
   "metadata": {
    "collapsed": true
   },
   "outputs": [],
   "source": []
  },
  {
   "cell_type": "code",
   "execution_count": null,
   "metadata": {
    "collapsed": true
   },
   "outputs": [],
   "source": []
  },
  {
   "cell_type": "code",
   "execution_count": null,
   "metadata": {
    "collapsed": true
   },
   "outputs": [],
   "source": []
  },
  {
   "cell_type": "code",
   "execution_count": null,
   "metadata": {
    "collapsed": true
   },
   "outputs": [],
   "source": []
  }
 ],
 "metadata": {
  "anaconda-cloud": {},
  "kernelspec": {
   "display_name": "Python [conda env:keras]",
   "language": "python",
   "name": "conda-env-keras-py"
  },
  "language_info": {
   "codemirror_mode": {
    "name": "ipython",
    "version": 2
   },
   "file_extension": ".py",
   "mimetype": "text/x-python",
   "name": "python",
   "nbconvert_exporter": "python",
   "pygments_lexer": "ipython2",
   "version": "2.7.12"
  }
 },
 "nbformat": 4,
 "nbformat_minor": 1
}
