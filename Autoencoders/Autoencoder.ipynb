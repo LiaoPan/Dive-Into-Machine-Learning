{
 "cells": [
  {
   "cell_type": "markdown",
   "metadata": {},
   "source": [
    "## 自动编码器\n",
    "> 自动编码器是可以有效学习输入数据隐藏表示特征的神经网络.我们将其特征成为_coding_._coding_通常比输入数据的维度小很多,所以可以用来对数据进行维度降维处理.\n",
    "这是一种非监督的学习方式.\n",
    "\n",
    "输入数据:可以是图片,矩阵数值数据等形式.\n",
    "约束:在训练自动编码器过程中,我们可以对其_coding_进行限制,比如说,限制其维度;或者我们可以在输入数据中加入噪音,使其重构原数据.这里加噪音的作用主要使其自动编码器更具鲁棒性,更好的挖掘该数据集的隐藏表现特征_coding_\n",
    "\n",
    "在本文中,我们将探索自动编码器的原理,可以添加何种类型的约束,如何用tensorflow实现.\n",
    "\n"
   ]
  },
  {
   "cell_type": "markdown",
   "metadata": {},
   "source": [
    "## 通俗理解\n",
    "自动编码器将输入数据强制转换成一个有效的隐层表示,然后输入的时候希望和输入越接近越好!\n",
    "![自动编码器](../resources/images/autoencoder_1.png)\n",
    "自动编码器分为两部分:\n",
    "- 编码器:将输入数据转换成_coding_.\n",
    "- 解码器:将_coding_转换成输出数据.\n",
    "\n",
    "通常,编码器和解码器都可以使用多层神经网络(MLP)构成."
   ]
  },
  {
   "cell_type": "markdown",
   "metadata": {},
   "source": [
    "## 1.实现一个简单的线性自动编码器\n",
    "使用线性激活函数,损失函数为Mean Squared Error(MSE)."
   ]
  },
  {
   "cell_type": "code",
   "execution_count": 5,
   "metadata": {
    "collapsed": true
   },
   "outputs": [],
   "source": [
    "import tensorflow as tf\n",
    "from tensorflow.contrib.layers import fully_connected"
   ]
  },
  {
   "cell_type": "code",
   "execution_count": 6,
   "metadata": {
    "collapsed": true
   },
   "outputs": [],
   "source": [
    "n_inputs = 784 #\n",
    "n_hidden = 2 # 2D inputs\n",
    "n_outputs = n_inputs\n",
    "\n",
    "learning_rate = 0.01"
   ]
  },
  {
   "cell_type": "code",
   "execution_count": 7,
   "metadata": {
    "collapsed": false
   },
   "outputs": [],
   "source": [
    "X = tf.placeholder(tf.float32,shape=[None,n_inputs])\n",
    "hidden = fully_connected(X,n_hidden,activation_fn=None) #None 表示这里使用线性\n",
    "outputs = fully_connected(hidden,n_outputs,activation_fn=None)"
   ]
  },
  {
   "cell_type": "code",
   "execution_count": 8,
   "metadata": {
    "collapsed": true
   },
   "outputs": [],
   "source": [
    "#重构误差--MSE\n",
    "re_loss = tf.reduce_mean(tf.square(outputs-X))"
   ]
  },
  {
   "cell_type": "code",
   "execution_count": 9,
   "metadata": {
    "collapsed": true
   },
   "outputs": [],
   "source": [
    "#优化器\n",
    "optimizer = tf.train.AdamOptimizer(learning_rate)\n",
    "training_op = optimizer.minimize(re_loss)"
   ]
  },
  {
   "cell_type": "code",
   "execution_count": 10,
   "metadata": {
    "collapsed": false
   },
   "outputs": [],
   "source": [
    "#初始化所有变量\n",
    "init = tf.global_variables_initializer()"
   ]
  },
  {
   "cell_type": "code",
   "execution_count": 11,
   "metadata": {
    "collapsed": false
   },
   "outputs": [
    {
     "name": "stdout",
     "output_type": "stream",
     "text": [
      "Extracting MNIST_data/train-images-idx3-ubyte.gz\n",
      "Extracting MNIST_data/train-labels-idx1-ubyte.gz\n",
      "Extracting MNIST_data/t10k-images-idx3-ubyte.gz\n",
      "Extracting MNIST_data/t10k-labels-idx1-ubyte.gz\n"
     ]
    }
   ],
   "source": [
    "# 加载数据集  这里使用minist数据集\n",
    "from tensorflow.examples.tutorials.mnist import input_data\n",
    "mnist = input_data.read_data_sets('MNIST_data', one_hot=True)"
   ]
  },
  {
   "cell_type": "code",
   "execution_count": 12,
   "metadata": {
    "collapsed": false
   },
   "outputs": [],
   "source": [
    "n_iterations = 200\n",
    "coding_dim = n_hidden\n",
    "batch_size = 256\n",
    "with tf.Session() as sess:\n",
    "    sess.run(init)\n",
    "    total_batch = int(mnist.train.num_examples/batch_size)\n",
    "    for _ in range(n_iterations):\n",
    "        for _ in range(total_batch):\n",
    "            batch_xs, batch_ys = mnist.train.next_batch(batch_size)\n",
    "            training_op.run(feed_dict={X:batch_xs})\n",
    "#     coding_val = coding.eval(feed_dict:{X:mnist.test.images[:10]})\n",
    "    "
   ]
  },
  {
   "cell_type": "markdown",
   "metadata": {
    "collapsed": true
   },
   "source": [
    "## 堆叠自动编码器(Stacked Autoencoder)\n",
    "自动编码器可以有多个隐藏层,增加多个隐藏层可以帮助自动编码器学习更加复杂的_coding_.!\n",
    "![堆叠自动编码器](../resources/images/stackedAE.png)\n",
    "\n",
    "### Tensorflow 实现\n",
    "使用一个深层的MLP进行堆叠自动编码器的实现.使用ELU的激活函数.\n",
    "现在还是以MNIST为例."
   ]
  },
  {
   "cell_type": "code",
   "execution_count": 13,
   "metadata": {
    "collapsed": false
   },
   "outputs": [],
   "source": [
    "n_inputs,n_outputs = 28*28,28*28\n",
    "n_hidden_1 = 1000\n",
    "n_hidden_2 = 500\n",
    "n_hidden_3 = 256\n",
    "\n",
    "learning_rate = 0.01\n",
    "l2_reg = 10e-5\n",
    "\n",
    "n_epochs = 10\n",
    "batch_size = 200"
   ]
  },
  {
   "cell_type": "code",
   "execution_count": 14,
   "metadata": {
    "collapsed": false
   },
   "outputs": [],
   "source": [
    "X = tf.placeholder(tf.float32,shape=(None,n_inputs))\n",
    "with tf.contrib.framework.arg_scope(\n",
    "        [fully_connected],\n",
    "        activation_fn = tf.nn.elu,\n",
    "    weights_initializer = tf.contrib.layers.variance_scaling_initializer(),\n",
    "    weights_regularizer = tf.contrib.layers.l2_regularizer(l2_reg)):\n",
    "    \n",
    "    hidden1 = fully_connected(X,n_hidden_1)\n",
    "    hidden2 = fully_connected(hidden1,n_hidden_2)\n",
    "    hidden3 = fully_connected(hidden2,n_hidden_3)\n",
    "    outputs = fully_connected(hidden3,n_outputs,activation_fn=None)\n"
   ]
  },
  {
   "cell_type": "code",
   "execution_count": 15,
   "metadata": {
    "collapsed": false
   },
   "outputs": [],
   "source": [
    "# loss function: MSE + reg_loss\n",
    "reconstruction_loss = tf.reduce_mean(tf.square(outputs-X))  \n",
    "reg_loss = tf.get_collection(tf.GraphKeys.REGULARIZATION_LOSSES)\n",
    "loss = tf.add_n([reconstruction_loss]+reg_loss) #列表元素相加\n",
    "optimizer = tf.train.AdamOptimizer(learning_rate)\n",
    "training_op = optimizer.minimize(loss)\n",
    "init = tf.global_variables_initializer()\n",
    "saver = tf.train.Saver()"
   ]
  },
  {
   "cell_type": "code",
   "execution_count": 16,
   "metadata": {
    "collapsed": false
   },
   "outputs": [
    {
     "name": "stdout",
     "output_type": "stream",
     "text": [
      "0 Train MSE: 0.0685086\n",
      "1 Train MSE: 0.0665917\n",
      "2 Train MSE: 0.0693068\n",
      "3 Train MSE: 0.0686476\n",
      "4 Train MSE: 0.0721094\n",
      "5 Train MSE: 0.0651432\n",
      "6 Train MSE: 0.0547794\n",
      "7 Train MSE: 0.0292038\n",
      "8 Train MSE: 0.0214007\n",
      "9 Train MSE: 0.0179547\n"
     ]
    }
   ],
   "source": [
    "from __future__ import print_function\n",
    "with tf.Session() as sess:\n",
    "    init.run()\n",
    "    for epoch in range(n_epochs):\n",
    "        n_batches = mnist.train.num_examples // batch_size\n",
    "        for iteration in range(n_batches):\n",
    "            print(\"\\r{}%\".format(100 * iteration // n_batches),end='')\n",
    "            X_batch,y_batch = mnist.train.next_batch(batch_size)\n",
    "            sess.run(training_op,feed_dict={X:X_batch})\n",
    "        loss_train = reconstruction_loss.eval(feed_dict={X: X_batch})\n",
    "        print(\"\\r{}\".format(epoch), \"Train MSE:\", loss_train)\n",
    "        saver.save(sess, \"./my_model_all_layers.ckpt\")"
   ]
  },
  {
   "cell_type": "markdown",
   "metadata": {
    "collapsed": true
   },
   "source": [
    "# Evaluate Test Data Set"
   ]
  },
  {
   "cell_type": "code",
   "execution_count": 17,
   "metadata": {
    "collapsed": false
   },
   "outputs": [
    {
     "name": "stdout",
     "output_type": "stream",
     "text": [
      "INFO:tensorflow:Restoring parameters from ./my_model_all_layers.ckpt\n"
     ]
    },
    {
     "data": {
      "image/png": "[encoded data removed]",
      "text/plain": [
       "<matplotlib.figure.Figure at 0x7f72c47fdf10>"
      ]
     },
     "metadata": {},
     "output_type": "display_data"
    }
   ],
   "source": [
    "# To plot pretty figures\n",
    "%matplotlib inline\n",
    "import matplotlib\n",
    "import matplotlib.pyplot as plt\n",
    "plt.rcParams['axes.labelsize'] = 14\n",
    "plt.rcParams['xtick.labelsize'] = 12\n",
    "plt.rcParams['ytick.labelsize'] = 12\n",
    "\n",
    "\n",
    "def plot_image(image, shape=[28, 28]):\n",
    "    plt.imshow(image.reshape(shape), cmap=\"Greys\", interpolation=\"nearest\")\n",
    "    plt.axis(\"off\")\n",
    "\n",
    "def plot_multiple_images(images, n_rows, n_cols, pad=2):\n",
    "    images = images - images.min()  # make the minimum == 0, so the padding looks white\n",
    "    w,h = images.shape[1:]\n",
    "    image = np.zeros(((w+pad)*n_rows+pad, (h+pad)*n_cols+pad))\n",
    "    for y in range(n_rows):\n",
    "        for x in range(n_cols):\n",
    "            image[(y*(h+pad)+pad):(y*(h+pad)+pad+h),(x*(w+pad)+pad):(x*(w+pad)+pad+w)] = images[y*n_cols+x]\n",
    "    plt.imshow(image, cmap=\"Greys\", interpolation=\"nearest\")\n",
    "    plt.axis(\"off\")\n",
    "#----------------------------------------------------------------------------------\n",
    "    \n",
    "with tf.Session() as sess:\n",
    "    saver.restore(sess,\"./my_model_all_layers.ckpt\")\n",
    "    X_test = mnist.test.images[:2]\n",
    "    outputs_val = outputs.eval(feed_dict={X:X_test})\n",
    "\n",
    "fig = plt.figure(figsize=(8,3*2))\n",
    "for i in range(2):\n",
    "    plt.subplot(2,2,i*2+1)\n",
    "    plot_image(X_test[i])\n",
    "    plt.subplot(2,2,i*2+2)\n",
    "    plot_image(outputs_val[i])"
   ]
  },
  {
   "cell_type": "markdown",
   "metadata": {
    "collapsed": true
   },
   "source": [
    "### Display the original image and reconstruction"
   ]
  },
  {
   "cell_type": "code",
   "execution_count": 18,
   "metadata": {
    "collapsed": true
   },
   "outputs": [],
   "source": [
    "#该函数为上述代码整理所得.\n",
    "def show_reconstructed_digits(X, outputs, model_path = None, n_test_digits = 2):\n",
    "    with tf.Session() as sess:\n",
    "        if model_path:\n",
    "            saver.restore(sess, model_path)\n",
    "        X_test = mnist.test.images[:n_test_digits]\n",
    "        outputs_val = outputs.eval(feed_dict={X: X_test})\n",
    "\n",
    "    fig = plt.figure(figsize=(8, 3 * n_test_digits))\n",
    "    for digit_index in range(n_test_digits):\n",
    "        plt.subplot(n_test_digits, 2, digit_index * 2 + 1)\n",
    "        plot_image(X_test[digit_index])\n",
    "        plt.subplot(n_test_digits, 2, digit_index * 2 + 2)\n",
    "        plot_image(outputs_val[digit_index])\n",
    "        \n",
    "#exmaple :show_reconstructed_digits(X, outputs, \"./my_model_tying_weights.ckpt\")"
   ]
  },
  {
   "cell_type": "markdown",
   "metadata": {
    "collapsed": true
   },
   "source": [
    "## Stacked denoising Autoencoder"
   ]
  },
  {
   "cell_type": "code",
   "execution_count": 19,
   "metadata": {
    "collapsed": false
   },
   "outputs": [],
   "source": [
    "n_inputs = 28 * 28\n",
    "n_hidden1 = 300\n",
    "n_hidden2 = 150  # codings in hidden layers\n",
    "n_hidden3 = n_hidden1\n",
    "n_outputs = n_inputs\n",
    "learning_rate = 0.01\n",
    "noise_level = 1 # noise ratio\n",
    "\n",
    "n_epochs = 20\n",
    "batch_size = 200"
   ]
  },
  {
   "cell_type": "code",
   "execution_count": 20,
   "metadata": {
    "collapsed": false
   },
   "outputs": [],
   "source": [
    "X = tf.placeholder(tf.float32,shape=[None,n_inputs])\n",
    "X_noisy = X + noise_level*tf.random_normal(tf.shape(X)) # add guassian noises\n",
    "\n",
    "hidden1 = tf.layers.dense(X_noisy,n_hidden1,activation=tf.nn.relu,name='hidden1')\n",
    "hidden2 = tf.layers.dense(hidden1,n_hidden2,activation=tf.nn.relu,name='hidden2')\n",
    "hidden3 = tf.layers.dense(hidden2,n_hidden3,activation=tf.nn.relu,name='hidden3')\n",
    "outputs = tf.layers.dense(hidden3,n_outputs,name='outputs')"
   ]
  },
  {
   "cell_type": "code",
   "execution_count": 21,
   "metadata": {
    "collapsed": false
   },
   "outputs": [],
   "source": [
    "reconstruction_loss = tf.reduce_mean(tf.square(outputs - X))\n",
    "optimizer = tf.train.AdamOptimizer(learning_rate)\n",
    "training_op = optimizer.minimize(reconstruction_loss)\n",
    "init = tf.global_variables_initializer()\n",
    "saver = tf.train.Saver()"
   ]
  },
  {
   "cell_type": "code",
   "execution_count": 22,
   "metadata": {
    "collapsed": false
   },
   "outputs": [
    {
     "name": "stdout",
     "output_type": "stream",
     "text": [
      "0 Train MSE: 0.0453503\n",
      "1 Train MSE: 0.04184\n",
      "2 Train MSE: 0.0422351\n",
      "3 Train MSE: 0.0420889\n",
      "4 Train MSE: 0.0421068\n",
      "5 Train MSE: 0.0397888\n",
      "6 Train MSE: 0.0394123\n",
      "7 Train MSE: 0.0388018\n",
      "8 Train MSE: 0.040082\n",
      "9 Train MSE: 0.0393599\n",
      "10 Train MSE: 0.0392673\n",
      "11 Train MSE: 0.0403794\n",
      "12 Train MSE: 0.0395581\n",
      "13 Train MSE: 0.0400826\n",
      "14 Train MSE: 0.0407527\n",
      "15 Train MSE: 0.0417729\n",
      "16 Train MSE: 0.0397377\n",
      "17 Train MSE: 0.0396115\n",
      "18 Train MSE: 0.0405759\n",
      "19 Train MSE: 0.0402594\n"
     ]
    }
   ],
   "source": [
    "# train process\n",
    "import sys\n",
    "with tf.Session() as sess:\n",
    "    init.run()\n",
    "    for epoch in range(n_epochs):\n",
    "        n_batches = mnist.train.num_examples//batch_size\n",
    "        for i in range(n_batches):\n",
    "            print(\"\\r{}%\".format(100 * i // n_batches), end=\"\")\n",
    "            sys.stdout.flush() #缓冲区实时输出.\n",
    "            X_batch,y_batch = mnist.train.next_batch(batch_size)\n",
    "            sess.run(training_op,feed_dict={X:X_batch})\n",
    "        loss_train = reconstruction_loss.eval(feed_dict={X:X_batch})\n",
    "        print(\"\\r{}\".format(epoch), \"Train MSE:\", loss_train)\n",
    "        saver.save(sess, \"./my_model_stacked_denoising_gaussian.ckpt\")"
   ]
  },
  {
   "cell_type": "code",
   "execution_count": 23,
   "metadata": {
    "collapsed": false
   },
   "outputs": [
    {
     "name": "stdout",
     "output_type": "stream",
     "text": [
      "INFO:tensorflow:Restoring parameters from ./my_model_stacked_denoising_gaussian.ckpt\n"
     ]
    },
    {
     "data": {
      "image/png": "[encoded data removed]",
      "text/plain": [
       "<matplotlib.figure.Figure at 0x7f72c4d9b090>"
      ]
     },
     "metadata": {},
     "output_type": "display_data"
    }
   ],
   "source": [
    "show_reconstructed_digits(X, outputs, \"./my_model_stacked_denoising_gaussian.ckpt\")"
   ]
  },
  {
   "cell_type": "markdown",
   "metadata": {},
   "source": [
    "### 自动编码器 + Dropout Layer"
   ]
  },
  {
   "cell_type": "code",
   "execution_count": 24,
   "metadata": {
    "collapsed": false
   },
   "outputs": [],
   "source": [
    "n_inputs = 28 * 28\n",
    "n_hidden1 = 300\n",
    "n_hidden2 = 150  # codings\n",
    "n_hidden3 = n_hidden1\n",
    "n_outputs = n_inputs\n",
    "\n",
    "learning_rate = 0.01\n",
    "dropout_rate = 0.3\n",
    "\n",
    "n_epochs = 5\n",
    "batch_size = 200\n",
    "\n",
    "tf.reset_default_graph()"
   ]
  },
  {
   "cell_type": "code",
   "execution_count": 25,
   "metadata": {
    "collapsed": false
   },
   "outputs": [],
   "source": [
    "# The implemention of stacked autoencoder with dropout layer\n",
    "training = tf.placeholder_with_default(False, shape=(), name='training')\n",
    "\n",
    "X = tf.placeholder(tf.float32, shape=[None, n_inputs])\n",
    "X_drop = tf.layers.dropout(X, dropout_rate, training=training)\n",
    "hidden1 = tf.layers.dense(X_drop,n_hidden1,activation=tf.nn.relu,name='hidden1')\n",
    "hidden2 = tf.layers.dense(hidden1,n_hidden2,activation=tf.nn.relu,name='hidden2')\n",
    "hidden3 = tf.layers.dense(hidden2,n_hidden3,activation=tf.nn.relu,name='hidden3')\n",
    "outputs = tf.layers.dense(hidden3,n_outputs,name='outputs')"
   ]
  },
  {
   "cell_type": "code",
   "execution_count": 26,
   "metadata": {
    "collapsed": false
   },
   "outputs": [],
   "source": [
    "reconstruction_loss = tf.reduce_mean(tf.square(outputs-X))\n",
    "optimizer = tf.train.AdamOptimizer(learning_rate)\n",
    "training_op = optimizer.minimize(reconstruction_loss)\n",
    "init = tf.global_variables_initializer()\n",
    "saver = tf.train.Saver()"
   ]
  },
  {
   "cell_type": "code",
   "execution_count": 27,
   "metadata": {
    "collapsed": false
   },
   "outputs": [
    {
     "name": "stdout",
     "output_type": "stream",
     "text": [
      "0 Train MSE: 0.0281838\n",
      "1 Train MSE: 0.0258091\n",
      "2 Train MSE: 0.0243486\n",
      "3 Train MSE: 0.0238641\n",
      "4 Train MSE: 0.0243637\n"
     ]
    }
   ],
   "source": [
    "with tf.Session() as sess:\n",
    "    init.run()\n",
    "    for epoch in range(n_epochs):\n",
    "        n_batches = mnist.train.num_examples//batch_size\n",
    "        for i in range(n_batches):\n",
    "            print(\"\\r{}%\".format(100 * iteration // n_batches), end=\"\")\n",
    "            sys.stdout.flush()\n",
    "            X_batch,y_batch = mnist.train.next_batch(batch_size)\n",
    "            sess.run(training_op,feed_dict={X:X_batch,training: True})\n",
    "        loss_train = reconstruction_loss.eval(feed_dict={X:X_batch})\n",
    "        print(\"\\r{}\".format(epoch), \"Train MSE:\", loss_train)\n",
    "        saver.save(sess, \"./my_model_stacked_denoising_dropout.ckpt\") "
   ]
  },
  {
   "cell_type": "code",
   "execution_count": 28,
   "metadata": {
    "collapsed": false
   },
   "outputs": [
    {
     "name": "stdout",
     "output_type": "stream",
     "text": [
      "INFO:tensorflow:Restoring parameters from ./my_model_stacked_denoising_dropout.ckpt\n"
     ]
    },
    {
     "data": {
      "image/png": "[encoded data removed]",
      "text/plain": [
       "<matplotlib.figure.Figure at 0x7f72c0b55310>"
      ]
     },
     "metadata": {},
     "output_type": "display_data"
    }
   ],
   "source": [
    "show_reconstructed_digits(X, outputs, \"./my_model_stacked_denoising_dropout.ckpt\")"
   ]
  },
  {
   "cell_type": "markdown",
   "metadata": {},
   "source": [
    "## Sparse Autoencoder 稀疏自动编码器"
   ]
  },
  {
   "cell_type": "code",
   "execution_count": 29,
   "metadata": {
    "collapsed": true
   },
   "outputs": [],
   "source": [
    "#重置图\n",
    "tf.reset_default_graph()"
   ]
  },
  {
   "cell_type": "code",
   "execution_count": 30,
   "metadata": {
    "collapsed": true
   },
   "outputs": [],
   "source": [
    "n_inputs = 28 * 28\n",
    "n_hidden1 = 1000  # sparse codings\n",
    "n_outputs = n_inputs\n",
    "n_epochs = 100\n",
    "batch_size = 1000\n",
    "learning_rate = 0.01\n",
    "sparsity_target = 0.1\n",
    "sparsity_weight = 0.2 #调节稀疏程度的系数(权重)"
   ]
  },
  {
   "cell_type": "code",
   "execution_count": 31,
   "metadata": {
    "collapsed": true
   },
   "outputs": [],
   "source": [
    "# KL 离散度\n",
    "def kl_divergence(p,q):\n",
    "    return p*tf.log(p/q)+(1-p)*tf.log((1-p)/(1-q))"
   ]
  },
  {
   "cell_type": "code",
   "execution_count": 32,
   "metadata": {
    "collapsed": false
   },
   "outputs": [],
   "source": [
    "X = tf.placeholder(tf.float32,shape=[None,n_inputs])\n",
    "\n",
    "hidden1 = tf.layers.dense(X,n_hidden1,activation=tf.nn.sigmoid)\n",
    "outputs = tf.layers.dense(hidden1,n_outputs)\n",
    "\n",
    "hidden1_mean = tf.reduce_mean(hidden1,axis=0)\n",
    "sparsity_loss = tf.reduce_sum(kl_divergence(sparsity_target,hidden1_mean))\n",
    "reconstruction_loss = tf.reduce_mean(tf.square(outputs-X))\n",
    "loss = reconstruction_loss + sparsity_weight * sparsity_loss"
   ]
  },
  {
   "cell_type": "code",
   "execution_count": null,
   "metadata": {
    "collapsed": true
   },
   "outputs": [],
   "source": []
  },
  {
   "cell_type": "code",
   "execution_count": null,
   "metadata": {
    "collapsed": true
   },
   "outputs": [],
   "source": []
  }
 ],
 "metadata": {
  "anaconda-cloud": {},
  "kernelspec": {
   "display_name": "Python [conda env:keras]",
   "language": "python",
   "name": "conda-env-keras-py"
  },
  "language_info": {
   "codemirror_mode": {
    "name": "ipython",
    "version": 2
   },
   "file_extension": ".py",
   "mimetype": "text/x-python",
   "name": "python",
   "nbconvert_exporter": "python",
   "pygments_lexer": "ipython2",
   "version": "2.7.12"
  }
 },
 "nbformat": 4,
 "nbformat_minor": 1
}
