{
 "cells": [
  {
   "cell_type": "markdown",
   "metadata": {},
   "source": [
    "## 模型融合"
   ]
  },
  {
   "cell_type": "markdown",
   "metadata": {},
   "source": [
    "> 核心思想: \"三个臭皮匠顶个诸葛亮\"\n",
    "\n",
    "即集体的智慧决策一般优于个人做出的决策,采取这种思路的方法,我们叫做模型融合.\n",
    "其中,随机森林就采用了模型融合的思想,它成了机器学习领域最具威力的算法之一.\n",
    "在模型融合这块,会学习到三种常用的融合技巧.\n",
    "- bagging\n",
    "- boosting \n",
    "- stacking"
   ]
  },
  {
   "cell_type": "markdown",
   "metadata": {},
   "source": [
    "### 硬投票机制\n",
    "假定我们有逻辑回归分类器, SVM分类器, 随机森林分类器,且每种分类器的精度都达到了80%以上. 一种常用的方式就是如\"狼人杀游戏\"中的机制--投票! 这里就是选取这几个算法中预测类别投票数最多的分类标签.\n",
    "![投票](../resources/images/Ensemble_vote.png)\n",
    "\n",
    "投票机制通常可以取得更高的准确度."
   ]
  },
  {
   "cell_type": "markdown",
   "metadata": {},
   "source": [
    "### 投票机制原理解释\n",
    "-- 使用大数定理来解释其去的更高性能的缘由.\n",
    "假如我们有一个不均匀的硬币(51%概率为正面，49%概率为反面), 假定咱们扔硬币1000次,那么我们大约会统计得到510的正面,490次的反面,这里我们获得了大量的正面,当然反面也不少.\n",
    "在完成1000次抛掷后,获得大部分的正面的概率为大约75%(**怎么计算呢?** )\n",
    "\n",
    "扔硬币10,000次,那么可以统计得到正面5100次,4900次反面.获取大部分正面的的概率会超过97%.这是因为根据大数定理,持续抛硬币,那么硬币正面的概率会趋近51%.\n",
    "\n",
    "现在,我们建立一个含有1000个分类器的融合模型,每个分类器的准确度为51%,如果我们预测结果总是投票数最多的分类标签,那么我们的融合模型就可以获取75%的准确率.然而,这需要一个前提,那就是每个分类器的预测都是相互独立的,他们造成的错误分类都是不相关联的.如果这些分类器大部分都犯同一类错误,那么这就会降低融合方法的性能.\n",
    "\n",
    "### Tip\n",
    "融合方法在各个分类器都是相互独立的时候可以取得最好的效果．即各个分类器的错误都是不同种类的，这才会提升融合方法的性能．\n"
   ]
  },
  {
   "cell_type": "code",
   "execution_count": 1,
   "metadata": {
    "collapsed": false
   },
   "outputs": [],
   "source": [
    "# the implemention of a voting classifier in scikit-learn.\n",
    "from sklearn.ensemble import RandomForestClassifier\n",
    "from sklearn.ensemble import VotingClassifier\n",
    "from sklearn.linear_model import LogisticRegression\n",
    "from sklearn.svm import SVC\n",
    "from sklearn.metrics import accuracy_score\n",
    "\n",
    "import numpy as np"
   ]
  },
  {
   "cell_type": "code",
   "execution_count": null,
   "metadata": {
    "collapsed": false
   },
   "outputs": [
    {
     "name": "stdout",
     "output_type": "stream",
     "text": [
      "X_train: (100, 10)\n",
      "y_train: (100,)\n"
     ]
    }
   ],
   "source": [
    "X_train = np.random.normal(0,1,(100,10))\n",
    "X_test  = np.random.normal(0,1,(20,10))\n",
    "y_test = np.random.normal(0,1,20)\n",
    "y_train = np.random.normal(0,1,100)\n",
    "print \"X_train:\",X_train.shape\n",
    "print \"y_train:\",y_train.shape"
   ]
  },
  {
   "cell_type": "code",
   "execution_count": null,
   "metadata": {
    "collapsed": false
   },
   "outputs": [],
   "source": [
    "log_clf = LogisticRegression()\n",
    "rnd_clf = RandomForestClassifier()\n",
    "svm_clf = SVC()\n",
    "\n",
    "voting_clf = VotingClassifier(estimators=[('lr',log_clf),('rf',rnd_clf),('svc',svm_clf)],\n",
    "                             voting='hard'\n",
    "                             )\n",
    "voting_clf.fit(X_train,y_train)\n",
    "\n",
    "for clf in (log_clf,rnd_clf,svm_clf,voting_clf):\n",
    "    clf.fit(X_train,y_train)\n",
    "    y_pred = clf.predict(X_test)\n",
    "    print clf.__class__.__name__, accuracy_score(y_test,y_pred)\n",
    "    \n"
   ]
  },
  {
   "cell_type": "markdown",
   "metadata": {},
   "source": [
    "### 软投票\n",
    "如果每种分类器都可以生成预测分类的概率,那么我们选取出每个分类器的最高概率的分类标签,然后对每个个体分类器取平均.这就是软投票,它通常比硬投票获取更好的性能."
   ]
  },
  {
   "cell_type": "code",
   "execution_count": null,
   "metadata": {
    "collapsed": false
   },
   "outputs": [],
   "source": [
    "log_clf = LogisticRegression()\n",
    "rnd_clf = RandomForestClassifier()\n",
    "svm_clf = SVC()\n",
    "\n",
    "voting_clf = VotingClassifier(estimators=[('lr',log_clf),('rf',rnd_clf),('svc',svm_clf)],\n",
    "                             voting='soft'\n",
    "                             )\n",
    "voting_clf.fit(X_train,y_train)\n",
    "\n",
    "for clf in (log_clf,rnd_clf,svm_clf,voting_clf):\n",
    "    clf.fit(X_train,y_train)\n",
    "    y_pred = clf.predict(X_test)\n",
    "    print clf.__class__.__name__, accuracy_score(y_test,y_pred)\n",
    "    \n"
   ]
  },
  {
   "cell_type": "markdown",
   "metadata": {},
   "source": [
    "## Bagging"
   ]
  },
  {
   "cell_type": "code",
   "execution_count": null,
   "metadata": {
    "collapsed": true
   },
   "outputs": [],
   "source": []
  },
  {
   "cell_type": "code",
   "execution_count": null,
   "metadata": {
    "collapsed": true
   },
   "outputs": [],
   "source": []
  },
  {
   "cell_type": "code",
   "execution_count": null,
   "metadata": {
    "collapsed": true
   },
   "outputs": [],
   "source": []
  },
  {
   "cell_type": "code",
   "execution_count": null,
   "metadata": {
    "collapsed": true
   },
   "outputs": [],
   "source": []
  },
  {
   "cell_type": "code",
   "execution_count": null,
   "metadata": {
    "collapsed": true
   },
   "outputs": [],
   "source": []
  },
  {
   "cell_type": "code",
   "execution_count": null,
   "metadata": {
    "collapsed": true
   },
   "outputs": [],
   "source": []
  },
  {
   "cell_type": "code",
   "execution_count": null,
   "metadata": {
    "collapsed": true
   },
   "outputs": [],
   "source": []
  },
  {
   "cell_type": "code",
   "execution_count": null,
   "metadata": {
    "collapsed": true
   },
   "outputs": [],
   "source": []
  },
  {
   "cell_type": "code",
   "execution_count": null,
   "metadata": {
    "collapsed": true
   },
   "outputs": [],
   "source": []
  },
  {
   "cell_type": "code",
   "execution_count": null,
   "metadata": {
    "collapsed": true
   },
   "outputs": [],
   "source": []
  },
  {
   "cell_type": "markdown",
   "metadata": {},
   "source": [
    "## 随机森林"
   ]
  },
  {
   "cell_type": "code",
   "execution_count": null,
   "metadata": {
    "collapsed": true
   },
   "outputs": [],
   "source": []
  },
  {
   "cell_type": "code",
   "execution_count": null,
   "metadata": {
    "collapsed": true
   },
   "outputs": [],
   "source": []
  },
  {
   "cell_type": "code",
   "execution_count": null,
   "metadata": {
    "collapsed": true
   },
   "outputs": [],
   "source": []
  },
  {
   "cell_type": "code",
   "execution_count": null,
   "metadata": {
    "collapsed": true
   },
   "outputs": [],
   "source": []
  },
  {
   "cell_type": "code",
   "execution_count": null,
   "metadata": {
    "collapsed": true
   },
   "outputs": [],
   "source": []
  },
  {
   "cell_type": "code",
   "execution_count": null,
   "metadata": {
    "collapsed": true
   },
   "outputs": [],
   "source": []
  },
  {
   "cell_type": "code",
   "execution_count": null,
   "metadata": {
    "collapsed": true
   },
   "outputs": [],
   "source": []
  },
  {
   "cell_type": "code",
   "execution_count": null,
   "metadata": {
    "collapsed": true
   },
   "outputs": [],
   "source": []
  },
  {
   "cell_type": "code",
   "execution_count": null,
   "metadata": {
    "collapsed": true
   },
   "outputs": [],
   "source": []
  },
  {
   "cell_type": "code",
   "execution_count": null,
   "metadata": {
    "collapsed": true
   },
   "outputs": [],
   "source": []
  }
 ],
 "metadata": {
  "anaconda-cloud": {},
  "kernelspec": {
   "display_name": "Python [conda env:keras]",
   "language": "python",
   "name": "conda-env-keras-py"
  },
  "language_info": {
   "codemirror_mode": {
    "name": "ipython",
    "version": 2
   },
   "file_extension": ".py",
   "mimetype": "text/x-python",
   "name": "python",
   "nbconvert_exporter": "python",
   "pygments_lexer": "ipython2",
   "version": "2.7.12"
  }
 },
 "nbformat": 4,
 "nbformat_minor": 1
}
